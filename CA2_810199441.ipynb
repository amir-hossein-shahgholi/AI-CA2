{
 "cells": [
  {
   "attachments": {},
   "cell_type": "markdown",
   "metadata": {},
   "source": [
    "## **CA2-AI**\n",
    "# **Amir-Hossein Shahgholi(810199441)**\n",
    "\n",
    "### Part1-Genetic"
   ]
  },
  {
   "attachments": {},
   "cell_type": "markdown",
   "metadata": {},
   "source": [
    "In first part we want to implementing a genetic algorithm for portfolio management:\n",
    "\n",
    "At first we should create our Portfolio class to representation our chromosomes."
   ]
  },
  {
   "cell_type": "code",
   "execution_count": null,
   "metadata": {},
   "outputs": [],
   "source": [
    "class Portfolio:\n",
    "    data = list\n",
    "    fitness_result = int\n",
    "    \n",
    "    def __init__(self, data):\n",
    "        self.data = data"
   ]
  },
  {
   "attachments": {},
   "cell_type": "markdown",
   "metadata": {},
   "source": [
    "In our Chromosome class we have a list of data that represent amount of each shares in our Protfolio.\n",
    "\n",
    "Now we should create our population first. We fill data with some random numbers that sum of them will become 1.\n",
    "To do this we first generate some random numbers and then normalize the numbers.</br>\n",
    "Below function will do that for us."
   ]
  },
  {
   "cell_type": "code",
   "execution_count": null,
   "metadata": {},
   "outputs": [],
   "source": [
    "import random\n",
    "\n",
    "def create_sample_data(number_of_data):\n",
    "    numbers = []\n",
    "    for _ in range(number_of_data-1):\n",
    "        random_no = random.random()\n",
    "        numbers.append(random_no)\n",
    "    total = sum(numbers)\n",
    "    numbers = [x/total for x in numbers]\n",
    "    return numbers"
   ]
  },
  {
   "attachments": {},
   "cell_type": "markdown",
   "metadata": {},
   "source": [
    "So we create sample portfolio with randoms data that represent our population."
   ]
  },
  {
   "cell_type": "code",
   "execution_count": null,
   "metadata": {},
   "outputs": [],
   "source": [
    "NUMBER_OF_CHOROMOSOME_IN_POPULATION = 1000\n",
    "NUMBER_OF_SHARES = 400\n",
    "\n",
    "population = []\n",
    "\n",
    "for _ in range(NUMBER_OF_CHOROMOSOME_IN_POPULATION):\n",
    "    sample_data = create_sample_data(NUMBER_OF_SHARES)\n",
    "    temp_portfolio = Portfolio(data=sample_data)\n",
    "    population.append(temp_portfolio)"
   ]
  },
  {
   "attachments": {},
   "cell_type": "markdown",
   "metadata": {},
   "source": [
    "Now create our population with sample random data.\n",
    "\n",
    "In the next step we should define a fitness function to calculate a fitness value for each portfolio.\n",
    "For fitness function first we find total_returns of our portfolio and then we should find risk of our portfolio using the portfolio's standard deviation and then we calculate a fitness value with this formula: **fitness = (portfolio_return - risk_penalty * portfolio_risk) / return_penalty**"
   ]
  },
  {
   "cell_type": "code",
   "execution_count": null,
   "metadata": {},
   "outputs": [],
   "source": [
    "import numpy as np\n",
    "\n",
    "risk_penalty = 0.6\n",
    "return_penalty = 1000\n",
    "\n",
    "\n",
    "def calculate_fitness(returns: list, risks: list, portfolio):\n",
    "\n",
    "    returns = np.array(returns)\n",
    "    risks = np.array(risks)\n",
    "\n",
    "    shares_percent = np.array(portfolio.data)\n",
    "    portfolio_return = np.dot(returns, shares_percent)\n",
    "    portfolio_risk = np.sqrt(np.dot(shares_percent**2, risks))\n",
    "    fitness = (portfolio_return - risk_penalty * portfolio_risk) / return_penalty\n",
    "    return fitness"
   ]
  },
  {
   "attachments": {},
   "cell_type": "markdown",
   "metadata": {},
   "source": [
    "To find crossover of two chromosomes we use uniform crossover and then after finding child's data we normalize the data to have some of one in child's data. "
   ]
  },
  {
   "cell_type": "code",
   "execution_count": null,
   "metadata": {},
   "outputs": [],
   "source": [
    "def crossover(portfolio1, portfolio2) -> Portfolio:\n",
    "    pdata1 = portfolio1.data \n",
    "    pdata2 = portfolio2.data\n",
    "    child_data = []\n",
    "    for i in range(NUMBER_OF_SHARES):\n",
    "        if random.randint(0, 1) == 0:\n",
    "            child_data.append(pdata1[i])\n",
    "        else:\n",
    "            child_data.append(pdata2[i])\n",
    "    total = sum(child_data)\n",
    "    child_data = [x/total for x in child_data]\n",
    "    return Portfolio(child_data)"
   ]
  }
 ],
 "metadata": {
  "language_info": {
   "name": "python"
  },
  "orig_nbformat": 4
 },
 "nbformat": 4,
 "nbformat_minor": 2
}
