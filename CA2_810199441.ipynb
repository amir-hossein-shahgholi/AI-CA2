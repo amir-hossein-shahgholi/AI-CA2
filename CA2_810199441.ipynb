{
 "cells": [
  {
   "attachments": {},
   "cell_type": "markdown",
   "metadata": {},
   "source": [
    "## **CA2-AI**\n",
    "# **Amir-Hossein Shahgholi(810199441)**\n",
    "\n",
    "### Part1-Genetic"
   ]
  },
  {
   "attachments": {},
   "cell_type": "markdown",
   "metadata": {},
   "source": [
    "In first part we want to implementing a genetic algorithm for portfolio management:\n",
    "\n",
    "At first we should create our Portfolio class to representation our chromosomes."
   ]
  },
  {
   "cell_type": "code",
   "execution_count": 334,
   "metadata": {},
   "outputs": [],
   "source": [
    "class Portfolio:\n",
    "    data = list\n",
    "    fitness_result = int\n",
    "    \n",
    "    def __init__(self, data):\n",
    "        self.data = data"
   ]
  },
  {
   "attachments": {},
   "cell_type": "markdown",
   "metadata": {},
   "source": [
    "In our Chromosome class we have a list of data that represent amount of each shares in our Protfolio.\n",
    "\n",
    "Now we should create our population first. We fill data with some random numbers that sum of them will become 1.\n",
    "To do this we first generate some random numbers and then normalize the numbers.</br>\n",
    "Below function will do that for us."
   ]
  },
  {
   "cell_type": "code",
   "execution_count": 335,
   "metadata": {},
   "outputs": [],
   "source": [
    "import random\n",
    "\n",
    "ZERO_PERCENT = 0.6\n",
    "def create_sample_data(number_of_data):\n",
    "    numbers = []\n",
    "    for _ in range(number_of_data):\n",
    "        if (random.random()< ZERO_PERCENT):\n",
    "            numbers.append(0)\n",
    "        else:\n",
    "            random_no = random.random()\n",
    "            numbers.append(random_no)\n",
    "    total = sum(numbers)\n",
    "    numbers = [x/total for x in numbers]\n",
    "    return numbers"
   ]
  },
  {
   "attachments": {},
   "cell_type": "markdown",
   "metadata": {},
   "source": [
    "So we create sample portfolio with randoms data that represent our population."
   ]
  },
  {
   "cell_type": "code",
   "execution_count": 336,
   "metadata": {},
   "outputs": [],
   "source": [
    "NUMBER_OF_CHOROMOSOME_IN_POPULATION = 1000\n",
    "NUMBER_OF_SHARES = 400\n",
    "\n",
    "population = []\n",
    "\n",
    "for _ in range(NUMBER_OF_CHOROMOSOME_IN_POPULATION):\n",
    "    sample_data = create_sample_data(NUMBER_OF_SHARES)\n",
    "    temp_portfolio = Portfolio(data=sample_data)\n",
    "    population.append(temp_portfolio)"
   ]
  },
  {
   "attachments": {},
   "cell_type": "markdown",
   "metadata": {},
   "source": [
    "Now create our population with sample random data.\n",
    "\n",
    "In the next step we should define a fitness function to calculate a fitness value for each portfolio.\n",
    "For fitness function first we find total_returns of our portfolio and then we should find risk of our portfolio using the portfolio's standard deviation and then we calculate a fitness value with this formula: **fitness = (portfolio_return - risk_penalty * portfolio_risk) / return_penalty**"
   ]
  },
  {
   "cell_type": "code",
   "execution_count": 337,
   "metadata": {},
   "outputs": [],
   "source": [
    "import numpy as np\n",
    "\n",
    "risk_penalty = 0.6\n",
    "return_penalty = 10\n",
    "\n",
    "\n",
    "def calculate_fitness(returns: list, risks: list, portfolio):\n",
    "    fitness = 0\n",
    "    returns = np.array(returns, dtype=np.float64)\n",
    "    risks = np.array(risks, dtype=np.float64)\n",
    "    shares_percent = np.array(portfolio.data, dtype=np.float64)\n",
    "    num_zeros = np.count_nonzero(shares_percent == 0.0)\n",
    "    if (NUMBER_OF_SHARES - num_zeros) <30:\n",
    "        fitness -= 0.1\n",
    "    portfolio_return = np.dot(returns, shares_percent)\n",
    "    portfolio_risk = np.sqrt(np.dot(shares_percent**2, risks))\n",
    "    fitness += (portfolio_return - risk_penalty * portfolio_risk) / return_penalty\n",
    "    return fitness"
   ]
  },
  {
   "attachments": {},
   "cell_type": "markdown",
   "metadata": {},
   "source": [
    "To find crossover of two chromosomes we use uniform crossover and then after finding child's data we normalize the data to have some of one in child's data. "
   ]
  },
  {
   "cell_type": "code",
   "execution_count": 338,
   "metadata": {},
   "outputs": [],
   "source": [
    "def crossover(portfolio1, portfolio2) -> Portfolio:\n",
    "    pdata1 = portfolio1.data \n",
    "    pdata2 = portfolio2.data\n",
    "    child_data = []\n",
    "    for i in range(NUMBER_OF_SHARES):\n",
    "        if random.randint(0, 1) == 0:\n",
    "            child_data.append(pdata1[i])\n",
    "        else:\n",
    "            child_data.append(pdata2[i])\n",
    "    total = sum(child_data)\n",
    "    child_data = [x/total for x in child_data]\n",
    "    return Portfolio(child_data)"
   ]
  },
  {
   "cell_type": "code",
   "execution_count": 339,
   "metadata": {},
   "outputs": [],
   "source": [
    "def mutation(portfolio) -> Portfolio:\n",
    "    portfolio.data = create_sample_data(len( portfolio.data))\n",
    "    return portfolio"
   ]
  },
  {
   "attachments": {},
   "cell_type": "markdown",
   "metadata": {},
   "source": [
    "Read the sample data."
   ]
  },
  {
   "cell_type": "code",
   "execution_count": 340,
   "metadata": {},
   "outputs": [],
   "source": [
    "import csv\n",
    "\n",
    "returns = []\n",
    "risks = []\n",
    "\n",
    "with open('sample.csv', 'r') as csvfile:\n",
    "    reader = csv.DictReader(csvfile)\n",
    "    for row in reader:\n",
    "        returns.append(row['return'])\n",
    "        risks.append(row['risk'])"
   ]
  },
  {
   "cell_type": "code",
   "execution_count": 341,
   "metadata": {},
   "outputs": [],
   "source": [
    "def print_portfolio_data(portfolio, returns, risks):\n",
    "    returns = np.array(returns, dtype=np.float64)\n",
    "    risks = np.array(risks, dtype=np.float64)\n",
    "    shares_percent = np.array(portfolio.data, dtype=np.float64)\n",
    "    portfolio_return = np.dot(returns, shares_percent)\n",
    "    portfolio_risk = np.sqrt(np.dot(shares_percent**2, risks))\n",
    "    print(f\"Fitness: {portfolio.fitness_result}\")\n",
    "    print(f\"Return: {portfolio_return}\")\n",
    "    print(f\"Risk: {portfolio_risk}\")\n",
    "    print(f\"Data: {portfolio.data}\")"
   ]
  },
  {
   "cell_type": "code",
   "execution_count": 342,
   "metadata": {},
   "outputs": [
    {
     "name": "stdout",
     "output_type": "stream",
     "text": [
      "Fitness: 1.0022745844807193\n",
      "Return: 10.226664968023783\n",
      "Risk: 0.33986520536098275\n",
      "Data: [0.0, 0.0, 0.0005826942984575442, 0.002068653951320995, 0.0, 0.0, 0.0, 0.0, 0.1605172344240528, 0.0, 0.0, 0.0, 0.0, 0.0, 0.0, 0.0, 0.0, 0.0, 0.0, 0.0, 0.0, 0.0, 0.0, 0.0, 0.0, 0.0, 0.0, 0.0, 0.0, 0.0, 0.0, 0.0, 0.0, 0.0, 0.0, 0.0, 0.0, 0.0, 0.0, 0.0, 0.0, 0.0, 0.0, 0.0, 0.0, 0.0, 0.0, 0.0, 0.0, 0.0, 0.0, 0.0, 0.0, 0.0, 0.0, 0.028444078481902925, 0.0, 0.0, 0.0, 0.0, 0.0, 0.0, 0.0029323286967227373, 0.0, 0.0018403305559641185, 0.0, 0.0006178741081572541, 0.0, 0.0, 0.0, 0.0, 0.0, 0.0, 0.0, 0.0, 0.0, 0.0002787354677074338, 0.0, 0.0, 0.0, 0.0, 0.038561830950611324, 0.0, 0.0, 0.0, 0.0, 0.0, 0.0, 0.0, 0.0, 0.0, 0.0, 0.11620988307745131, 0.0, 0.0, 0.0, 0.0, 0.0, 0.0, 0.0, 0.0, 0.0, 0.0, 0.0, 0.0, 0.0, 0.0, 0.0, 0.0, 0.0, 0.0, 0.0, 0.0, 0.0, 0.0, 0.0, 0.0, 0.0, 0.0, 0.0, 0.0, 0.0, 0.0, 0.0, 0.0, 0.0, 0.0, 0.0, 0.0, 0.0, 0.0, 0.0, 0.0024091882250720834, 0.0, 0.0, 0.0, 0.0, 0.0, 0.0, 0.0, 0.0, 0.02335644570552455, 0.0, 0.0, 0.0, 0.0, 0.0, 0.0, 0.0, 0.0, 0.0, 0.0, 0.0, 0.0, 0.0, 0.0, 0.0, 0.0, 0.0, 0.0, 0.0, 0.0, 0.0, 0.0, 0.0, 0.0, 0.0, 0.0, 0.0, 0.0, 0.0, 0.0, 0.0, 0.0, 0.0, 0.0, 0.0, 0.0, 0.0, 0.0, 0.0, 0.0, 0.0, 0.0, 0.0, 0.0, 0.0, 0.0, 0.0, 0.0, 0.0, 0.0, 0.0, 0.0, 0.0, 0.0, 0.0, 0.0, 0.0, 0.0, 0.0, 0.0, 0.0, 0.0, 0.0, 0.0, 0.0, 0.0, 0.0, 0.0, 0.0011718296113708514, 0.0, 0.0, 0.0, 0.0, 0.0, 0.0, 0.0, 0.0, 0.0, 0.0, 0.0, 0.004772998254400377, 0.0, 0.0, 0.0, 0.0, 0.0, 0.0, 0.0, 0.0, 0.0, 0.0, 0.0, 0.0, 0.0, 0.0, 0.14158174229976858, 0.0010657838644357004, 0.0, 0.0, 0.0, 0.0, 0.0, 0.0, 0.0, 0.0, 0.0, 0.0, 0.0, 0.0, 0.0, 0.0, 0.003800570623234249, 0.0, 0.0, 0.0, 0.0, 0.0, 0.0, 0.0, 0.0, 0.0, 0.0, 0.0, 0.0, 0.0, 0.0, 0.0, 0.0014998758048509427, 0.0, 0.0, 0.0, 0.0, 0.0, 0.0, 0.0, 0.04269699488766119, 0.0, 0.0, 0.0009944050987687274, 0.0, 0.0, 0.0, 0.0, 0.0, 0.0, 0.0, 0.0, 0.0, 0.0, 0.0, 0.0, 0.0, 0.0, 0.0, 0.0, 0.0, 0.0, 0.0, 0.0, 0.0, 0.0, 0.0, 0.0, 0.0, 0.0, 0.0, 0.0, 0.0, 0.0, 0.0, 0.0, 0.0, 0.0, 0.05624417302892106, 0.0, 0.0, 0.0, 0.0, 0.0, 0.0, 0.0012832436805357607, 0.0, 0.0, 0.0, 0.0, 0.0, 0.011330233774124121, 0.0, 0.0, 0.0, 0.0, 0.0, 0.0, 0.0, 0.0, 0.0, 0.0, 0.0, 0.0, 0.002142880742437218, 0.0, 0.0, 0.0, 0.0, 0.0, 0.0, 0.0, 0.0, 0.0, 0.0, 0.0, 0.0, 0.0, 0.0, 0.0, 0.0, 0.0, 0.0, 0.0, 0.0, 0.0, 0.0, 0.0, 0.0, 0.0, 0.0, 0.0, 0.0, 0.0, 0.0, 0.344707074971399, 0.0, 0.0, 0.0, 0.0, 0.0, 0.0, 0.0, 0.0, 0.0, 0.0, 0.0, 0.0, 0.0, 0.00036036063972415256, 0.0, 0.0, 0.0, 0.0, 0.006150518213288298, 0.0, 0.0, 0.0, 0.0005265943122227619, 0.0, 0.0001950853041641641, 0.0, 0.0016563569457478551]\n"
     ]
    }
   ],
   "source": [
    "PC = 0.9\n",
    "PM = 0.1\n",
    "for cal in population:\n",
    "    cal.fitness_result = calculate_fitness(returns, risks, cal)\n",
    "population = sorted(population, key=lambda portfolio: portfolio.fitness_result)\n",
    "while True:\n",
    "    population_no = len(population)\n",
    "    parents = [population[i] for i in random.choices(range(population_no), weights=range(population_no), k=2)]\n",
    "    if random.random() <= PC:\n",
    "        new_child = crossover(parents[0], parents[1])\n",
    "        new_child.fitness_result = calculate_fitness(returns, risks, new_child)\n",
    "        population.pop(0)\n",
    "        for z, chrom in enumerate(population):\n",
    "            if chrom.fitness_result > new_child.fitness_result:\n",
    "                population.insert(z, new_child)\n",
    "                break\n",
    "        else:\n",
    "            population.append(new_child)\n",
    "    if random.random() <= PM:\n",
    "        random_chrom_index = random.randint(0,len(population)-1)\n",
    "        population[random_chrom_index] = mutation(population[random_chrom_index])\n",
    "    if population[-1].fitness_result > 1:\n",
    "        break\n",
    "print_portfolio_data(population[-1], returns, risks)\n",
    "    "
   ]
  },
  {
   "attachments": {},
   "cell_type": "markdown",
   "metadata": {},
   "source": []
  }
 ],
 "metadata": {
  "kernelspec": {
   "display_name": "Python 3",
   "language": "python",
   "name": "python3"
  },
  "language_info": {
   "codemirror_mode": {
    "name": "ipython",
    "version": 3
   },
   "file_extension": ".py",
   "mimetype": "text/x-python",
   "name": "python",
   "nbconvert_exporter": "python",
   "pygments_lexer": "ipython3",
   "version": "3.10.6"
  },
  "orig_nbformat": 4
 },
 "nbformat": 4,
 "nbformat_minor": 2
}
