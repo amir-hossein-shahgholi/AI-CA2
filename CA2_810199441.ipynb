{
 "cells": [
  {
   "attachments": {},
   "cell_type": "markdown",
   "metadata": {},
   "source": [
    "## **CA2-AI**\n",
    "# **Amir-Hossein Shahgholi(810199441)**\n",
    "\n",
    "### Part1-Genetic"
   ]
  },
  {
   "attachments": {},
   "cell_type": "markdown",
   "metadata": {},
   "source": [
    "In first part we want to implementing a genetic algorithm for portfolio management:\n",
    "\n",
    "At first we should create our Portfolio class to representation our chromosomes."
   ]
  },
  {
   "cell_type": "code",
   "execution_count": 10,
   "metadata": {},
   "outputs": [],
   "source": [
    "class Portfolio:\n",
    "    data = list\n",
    "    fitness_result = int\n",
    "    \n",
    "    def __init__(self, data):\n",
    "        self.data = data"
   ]
  },
  {
   "attachments": {},
   "cell_type": "markdown",
   "metadata": {},
   "source": [
    "In our Chromosome class we have a list of data that represent amount of each shares in our Protfolio.\n",
    "\n",
    "Now we should create our population first. We fill data with some random numbers that sum of them will be 1.\n",
    "To do this we first generate some random numbers and then normalize the numbers.</br>\n",
    "Below function will do that for us."
   ]
  },
  {
   "cell_type": "code",
   "execution_count": 11,
   "metadata": {},
   "outputs": [],
   "source": [
    "import random\n",
    "\n",
    "ZERO_PERCENT = 0.6\n",
    "def create_sample_data(number_of_data):\n",
    "    numbers = []\n",
    "    for _ in range(number_of_data):\n",
    "        if (random.random()< ZERO_PERCENT):\n",
    "            numbers.append(0)\n",
    "        else:\n",
    "            random_no = random.random()\n",
    "            numbers.append(random_no)\n",
    "    total = sum(numbers)\n",
    "    numbers = [x/total for x in numbers]\n",
    "    return numbers"
   ]
  },
  {
   "attachments": {},
   "cell_type": "markdown",
   "metadata": {},
   "source": [
    "So we create sample portfolio with randoms data that represent our population.\n",
    "ٔNumber of Choromosomes in our population set as 1000."
   ]
  },
  {
   "cell_type": "code",
   "execution_count": 12,
   "metadata": {},
   "outputs": [],
   "source": [
    "NUMBER_OF_CHOROMOSOME_IN_POPULATION = 1000\n",
    "NUMBER_OF_SHARES = 400\n",
    "\n",
    "population = []\n",
    "\n",
    "for _ in range(NUMBER_OF_CHOROMOSOME_IN_POPULATION):\n",
    "    sample_data = create_sample_data(NUMBER_OF_SHARES)\n",
    "    temp_portfolio = Portfolio(data=sample_data)\n",
    "    population.append(temp_portfolio)"
   ]
  },
  {
   "attachments": {},
   "cell_type": "markdown",
   "metadata": {},
   "source": [
    "In the next step we should define a fitness function to calculate a fitness value for each portfolio.\n",
    "For fitness function first we find total_returns of our portfolio and then we should find risk of our portfolio using the portfolio's standard deviation and then we calculate a fitness value with this formula: **fitness = (portfolio_return - risk_penalty * portfolio_risk) / return_penalty**"
   ]
  },
  {
   "cell_type": "code",
   "execution_count": 13,
   "metadata": {},
   "outputs": [],
   "source": [
    "import numpy as np\n",
    "\n",
    "risk_penalty = 0.6\n",
    "return_penalty = 10\n",
    "\n",
    "\n",
    "def calculate_fitness(returns: list, risks: list, portfolio):\n",
    "    fitness = 0\n",
    "    returns = np.array(returns, dtype=np.float64)\n",
    "    risks = np.array(risks, dtype=np.float64)\n",
    "    shares_percent = np.array(portfolio.data, dtype=np.float64)\n",
    "    num_zeros = np.count_nonzero(shares_percent == 0.0)\n",
    "    if (NUMBER_OF_SHARES - num_zeros) <30:\n",
    "        fitness -= 0.1\n",
    "    portfolio_return = np.dot(returns, shares_percent)\n",
    "    portfolio_risk = np.sqrt(np.dot(shares_percent**2, risks))\n",
    "    fitness += (portfolio_return - risk_penalty * portfolio_risk) / return_penalty\n",
    "    return fitness"
   ]
  },
  {
   "attachments": {},
   "cell_type": "markdown",
   "metadata": {},
   "source": [
    "To find crossover of two chromosomes we use uniform crossover and then after finding child's data we normalize the data to have some of one in child's data. "
   ]
  },
  {
   "cell_type": "code",
   "execution_count": 14,
   "metadata": {},
   "outputs": [],
   "source": [
    "def crossover(portfolio1, portfolio2) -> Portfolio:\n",
    "    pdata1 = portfolio1.data \n",
    "    pdata2 = portfolio2.data\n",
    "    child_data = []\n",
    "    for i in range(NUMBER_OF_SHARES):\n",
    "        if random.randint(0, 1) == 0:\n",
    "            child_data.append(pdata1[i])\n",
    "        else:\n",
    "            child_data.append(pdata2[i])\n",
    "    total = sum(child_data)\n",
    "    child_data = [x/total for x in child_data]\n",
    "    return Portfolio(child_data)"
   ]
  },
  {
   "attachments": {},
   "cell_type": "markdown",
   "metadata": {},
   "source": [
    "And we define a function for mutation that get portfolio data and replace the portfolio's data with some new data."
   ]
  },
  {
   "cell_type": "code",
   "execution_count": 15,
   "metadata": {},
   "outputs": [],
   "source": [
    "def mutation(portfolio) -> Portfolio:\n",
    "    portfolio.data = create_sample_data(len( portfolio.data))\n",
    "    return portfolio"
   ]
  },
  {
   "attachments": {},
   "cell_type": "markdown",
   "metadata": {},
   "source": [
    "Read the sample data using `csv` library and save returns and risk of shares in two lists."
   ]
  },
  {
   "cell_type": "code",
   "execution_count": 16,
   "metadata": {},
   "outputs": [],
   "source": [
    "import csv\n",
    "\n",
    "returns = []\n",
    "risks = []\n",
    "\n",
    "with open('sample.csv', 'r') as csvfile:\n",
    "    reader = csv.DictReader(csvfile)\n",
    "    for row in reader:\n",
    "        returns.append(row['return'])\n",
    "        risks.append(row['risk'])"
   ]
  },
  {
   "attachments": {},
   "cell_type": "markdown",
   "metadata": {},
   "source": [
    "We define a function to print data of portfolio."
   ]
  },
  {
   "cell_type": "code",
   "execution_count": 17,
   "metadata": {},
   "outputs": [],
   "source": [
    "def print_portfolio_data(portfolio, returns, risks):\n",
    "    returns = np.array(returns, dtype=np.float64)\n",
    "    risks = np.array(risks, dtype=np.float64)\n",
    "    shares_percent = np.array(portfolio.data, dtype=np.float64)\n",
    "    portfolio_return = np.dot(returns, shares_percent)\n",
    "    portfolio_risk = np.sqrt(np.dot(shares_percent**2, risks))\n",
    "    print(f\"Fitness: {portfolio.fitness_result}\")\n",
    "    print(f\"Return: {portfolio_return}\")\n",
    "    print(f\"Risk: {portfolio_risk}\")\n",
    "    print(f\"Data: {portfolio.data}\")"
   ]
  },
  {
   "attachments": {},
   "cell_type": "markdown",
   "metadata": {},
   "source": [
    "In this main step we create new generations. First we calculate the fitness for all choromosomes in our populationa and then we sort them, in next part we going into a loop that generate new generations in each loop.\n",
    "In each loop we run the crossover function with probability of PC and mutation with probability of PM. After crossover we delete the choromosome with lowest fitness and then apend new choromosome to the population and when we got expected fitness we break the loop."
   ]
  },
  {
   "cell_type": "code",
   "execution_count": 18,
   "metadata": {},
   "outputs": [
    {
     "name": "stdout",
     "output_type": "stream",
     "text": [
      "Fitness: 1.0214343388752893\n",
      "Return: 10.428378395544618\n",
      "Risk: 0.3567250113195414\n",
      "Data: [0.0, 0.0, 0.0, 0.0, 0.0, 0.0, 0.0, 0.0, 0.2020110365422299, 0.0036807473854763278, 0.0, 0.0008530190963203126, 0.0, 0.0, 0.0, 0.0, 0.0, 0.0, 0.0, 0.0, 0.000427016102655134, 0.0, 0.0, 0.0, 0.003099232546167516, 0.0, 0.0, 0.0, 0.0, 0.0, 0.0, 0.0, 0.0, 0.0, 0.0, 0.0, 0.0, 0.0009202556978802475, 0.00011942068617053805, 0.0, 0.0014749909878485046, 0.0, 0.0, 0.0, 0.0, 0.0, 0.0, 0.0, 0.0, 0.0, 0.0, 0.0, 0.0, 0.0, 0.0, 0.0, 0.0, 0.0, 0.0, 0.0, 0.0, 0.0, 0.0, 0.0, 0.0, 0.0, 0.0, 0.0, 0.0, 0.0, 0.0, 0.0, 0.0, 0.0, 0.0, 0.0, 0.0, 0.0, 0.0, 0.0, 0.0, 0.05126551118227019, 0.0, 0.0, 0.0, 0.0, 0.0, 0.0, 0.013554493559048277, 0.0, 0.0, 0.0, 0.08649740724734112, 0.0, 0.0, 0.0, 0.0, 0.003411375156293498, 0.0, 0.0, 0.0, 0.0, 0.0, 0.0, 0.0, 0.0, 0.0, 0.0, 0.0, 0.005163946652038357, 0.0, 0.003380277844291648, 0.0, 0.0, 0.0, 0.0, 0.0, 0.0, 0.0, 0.0, 0.0, 0.0, 0.0, 0.0, 0.0, 0.0, 0.0, 0.0, 0.0, 0.0, 0.0, 0.0, 0.0, 0.0, 0.0, 0.0, 0.0, 0.0, 0.0, 0.0, 0.0, 0.03656479140726327, 0.0, 0.0, 0.0, 0.0, 0.0, 0.0, 0.0, 0.0, 0.0, 0.0, 0.0, 0.0, 0.0011039830547941673, 0.0, 0.0, 0.0, 0.0, 0.0, 0.0, 0.0, 0.0, 0.0, 0.0, 0.0, 0.0, 0.0, 0.0, 0.0, 0.0, 0.0012359681569052902, 0.0, 0.0, 0.0, 0.0, 0.0, 0.0, 0.0, 0.0, 0.0, 0.0, 0.0, 0.0, 0.0, 0.0, 0.0, 0.0, 0.0, 0.0, 0.0, 0.0, 0.0, 0.0, 0.0, 0.0, 0.0, 0.0, 0.0, 0.0007402069765904112, 0.0, 0.0, 0.0, 0.0, 0.0, 0.0, 0.0, 0.0, 0.0, 0.0, 0.0, 0.0, 0.0, 0.0013338752098072187, 0.0, 0.0, 0.0, 0.0, 0.0, 0.0, 0.0, 0.0, 0.0015791660081185196, 0.0, 0.0, 0.0, 0.0, 0.0, 0.0, 0.0, 0.0, 0.0, 0.0, 0.0, 0.0, 0.0, 0.0, 0.075082066165987, 0.0, 0.0, 0.0, 0.0, 0.0, 0.0, 0.0, 0.0, 0.0, 0.0, 0.0, 0.0, 0.0, 0.0, 0.0, 0.0, 0.0, 0.0, 0.0, 0.0, 0.0, 0.0, 0.0, 0.0, 0.0, 0.0, 0.0, 0.0, 0.0, 0.0, 0.0, 0.0, 0.0, 0.0, 0.0, 0.0, 0.0, 0.0, 0.0, 0.038088641381062285, 0.0, 0.0, 0.0, 0.0, 0.0, 0.0, 0.0, 0.0, 0.0, 0.0, 0.0, 0.0, 0.0, 0.0, 0.0, 0.0, 0.0, 0.0, 0.0, 0.0, 0.0, 0.0, 0.0, 0.0, 0.004896825437582864, 0.0, 0.0, 0.0, 0.0, 0.0, 0.0, 0.0, 0.0, 0.0, 0.0, 0.0, 0.0, 0.04993336276389506, 0.0, 0.0, 0.0, 0.0, 0.0, 0.0, 0.004242918055445033, 0.0, 0.0, 0.0, 0.0, 0.0, 0.0, 0.0, 0.0, 0.0, 0.0, 0.0, 0.0, 0.0, 0.0, 0.0, 0.0, 0.0, 0.0, 0.004913974821744199, 0.001540301357841563, 0.0, 0.0, 0.0, 0.0, 0.0, 0.0, 0.0, 0.0, 0.0, 0.0, 0.0, 0.0, 0.0, 0.0, 0.0, 0.0, 0.0, 0.0, 0.0014939802240711742, 0.0, 0.0, 0.0, 0.0, 0.0, 0.0, 0.0, 0.0, 0.0, 0.0, 0.3774221963331201, 0.0, 0.0, 0.0, 0.0, 0.02396901195974019, 0.0, 0.0, 0.0, 0.0, 0.0, 0.0, 0.0, 0.0, 0.0, 0.0, 0.0, 0.0, 0.0, 0.0, 0.0, 0.0, 0.0, 0.0, 0.0, 0.0, 0.0, 0.0]\n"
     ]
    }
   ],
   "source": [
    "PC = 0.9\n",
    "PM = 0.05\n",
    "for cal in population:\n",
    "    cal.fitness_result = calculate_fitness(returns, risks, cal)\n",
    "population = sorted(population, key=lambda portfolio: portfolio.fitness_result)\n",
    "while True:\n",
    "    if random.random() <= PC:\n",
    "        population_no = len(population)\n",
    "        parents = [population[i] for i in random.choices(range(population_no), weights=range(population_no), k=2)]\n",
    "        new_child = crossover(parents[0], parents[1])\n",
    "        new_child.fitness_result = calculate_fitness(returns, risks, new_child)\n",
    "        population.pop(0)\n",
    "        for z, chrom in enumerate(population):\n",
    "            if chrom.fitness_result > new_child.fitness_result:\n",
    "                population.insert(z, new_child)\n",
    "                break\n",
    "        else:\n",
    "            population.append(new_child)\n",
    "    if random.random() <= PM:\n",
    "        random_chrom_index = random.randint(0,len(population)-1)\n",
    "        population[random_chrom_index] = mutation(population[random_chrom_index])\n",
    "    if population[-1].fitness_result > 1:\n",
    "        break\n",
    "print_portfolio_data(population[-1], returns, risks)\n",
    "    "
   ]
  },
  {
   "attachments": {},
   "cell_type": "markdown",
   "metadata": {},
   "source": [
    "### Answer a questions:\n",
    "\n",
    "**1-** The small population can result in the algorithm getting stuck in a local optimum answer and not finding the global optimum answer. In large population finding the answer take long time and can result in longer computation times, which can be a problem for optimization problems with large scales.\n",
    "\n",
    "**2-** It increases the computation times and the memory usage very much and unnecessary data(like choromosomes with low fitness) take large amount of memmory.\n",
    "\n",
    "**3-** With crossover combining information from two or more parents to create better offsprings and mutation introducing random changes to the offspring to create some new genes. We need both of them for example crossover without mutation can getting stuck in a local answer and new childs don't getting better in new generations.\n",
    "\n",
    "**4-** Chosing a good Fitness function, the initial population size and their data should be chosen carefully to create variant init data and parameters of the probability of crossover and mutation are helpful to make iit faster.\n",
    "\n",
    "**5-** The algorithm may find local optimum answer and not finding the global optimum and that answer may not be good for our fitness. In this cases we can use mutation with more probability and also we can stop the loop if in new generation our fitness not growing.\n",
    "\n",
    "**6-** As said in above question we can break the loop if we don't have grow in our new generation's fitness."
   ]
  },
  {
   "attachments": {},
   "cell_type": "markdown",
   "metadata": {},
   "source": [
    "## Part2-Game"
   ]
  },
  {
   "attachments": {},
   "cell_type": "markdown",
   "metadata": {},
   "source": [
    "In this part we should implement `minimax` algorithm for Othello game."
   ]
  },
  {
   "attachments": {},
   "cell_type": "markdown",
   "metadata": {},
   "source": [
    "Sample game code is given to us and it's in main function so we first import main into our project."
   ]
  },
  {
   "cell_type": "code",
   "execution_count": 1,
   "metadata": {},
   "outputs": [],
   "source": [
    "import main"
   ]
  },
  {
   "attachments": {},
   "cell_type": "markdown",
   "metadata": {},
   "source": [
    "Now we add some new function to Othello class that provided.\n",
    "First we add an `evaluate` function to evaluates the current state of the board for the given player. We consider several criteria for example:</br>\n",
    "    - Pieces controlled by the player.</br>\n",
    "    - Bonus for pieces in the corners.</br>\n",
    "    - Penalty for pieces on the edge but not in the corners.</br>\n",
    "    - And also consider penalty with same weight for pieces of opponent.</br></br>\n",
    "And in next step we implement a `minimax` function to find score of each node in the tree using evaluate function.</br></br>\n",
    "\n",
    "In last step we override the `get_human_move` methode to select a move using minimax."
   ]
  },
  {
   "cell_type": "code",
   "execution_count": 2,
   "metadata": {},
   "outputs": [],
   "source": [
    "from copy import deepcopy\n",
    "\n",
    "class OthelloMinimax(main.Othello):\n",
    "    def evaluate(self, player):\n",
    "        score = 0\n",
    "        score += sum([row.count(player) for row in self.board])\n",
    "        return score\n",
    "    \n",
    "    def minimax(self, board, depth, player):\n",
    "        self.number_of_seen_nodes += 1 # To count number of seen nodes\n",
    "        if depth == 0 or self.terminal_test(): # If it's a leaf for our current tree then return score\n",
    "            return self.evaluate(player)\n",
    "        if player == 1: # Max function\n",
    "            max_score = float('-inf')\n",
    "            for move in self.get_valid_moves(player):\n",
    "                temp_board = deepcopy(board)\n",
    "                self.make_move(player, move)\n",
    "                score = self.minimax(temp_board, depth-1, -player)\n",
    "                self.board = deepcopy(temp_board)\n",
    "                max_score = max(max_score, score)\n",
    "            return max_score\n",
    "        else: # Min function\n",
    "            min_score = float('inf')\n",
    "            for move in self.get_valid_moves(player):\n",
    "                temp_board = deepcopy(board)\n",
    "                self.make_move(player, move)\n",
    "                score = self.minimax(temp_board, depth-1, -player)\n",
    "                self.board = deepcopy(temp_board)\n",
    "                min_score = min(min_score, score)\n",
    "            return min_score\n",
    "        \n",
    "    def get_human_move(self):\n",
    "        moves = self.get_valid_moves(1)\n",
    "        if len(moves) == 0:\n",
    "            return None\n",
    "        best_move = None\n",
    "        best_score = float('-inf')\n",
    "        for move in moves:\n",
    "            temp_board = deepcopy(self.board)\n",
    "            self.make_move(1, move)\n",
    "            score = self.minimax(temp_board, self.minimax_depth-1, -1)\n",
    "            self.board = deepcopy(temp_board)\n",
    "            if score > best_score:\n",
    "                best_move = move\n",
    "                best_score = score\n",
    "        return best_move"
   ]
  },
  {
   "attachments": {},
   "cell_type": "markdown",
   "metadata": {},
   "source": [
    "Now our Othello getting complete with minimax algorithm and specific depth and we run our tests."
   ]
  },
  {
   "cell_type": "code",
   "execution_count": 3,
   "metadata": {},
   "outputs": [],
   "source": [
    "def run_test(depth, number_of_tests):\n",
    "    total_time = 0\n",
    "    total_seen_nodes = 0\n",
    "    win_count = 0\n",
    "    for _ in range(number_of_tests):\n",
    "        o = OthelloMinimax(ui=False, minimax_depth=depth)\n",
    "        result = o.play()\n",
    "        if result[0] == 1:\n",
    "            win_count += 1\n",
    "        total_time += result[1]\n",
    "        total_seen_nodes += result[2]\n",
    "    print(f\"Wins percent:{win_count/number_of_tests*100}\")\n",
    "    print(f\"Avg executation time:{total_time/number_of_tests}\")\n",
    "    print(f\"Avg visited nodes:{total_seen_nodes/number_of_tests}\")\n"
   ]
  },
  {
   "attachments": {},
   "cell_type": "markdown",
   "metadata": {},
   "source": [
    "First we test with depth one."
   ]
  },
  {
   "cell_type": "code",
   "execution_count": 7,
   "metadata": {},
   "outputs": [
    {
     "name": "stdout",
     "output_type": "stream",
     "text": [
      "Wins percent:38.0\n",
      "Avg executation time:0.008245404958724976\n",
      "Avg visited nodes:85.205\n"
     ]
    }
   ],
   "source": [
    "run_test(depth=1, number_of_tests=200)"
   ]
  },
  {
   "attachments": {},
   "cell_type": "markdown",
   "metadata": {},
   "source": [
    "We increase depth to 3."
   ]
  },
  {
   "cell_type": "code",
   "execution_count": 90,
   "metadata": {},
   "outputs": [
    {
     "name": "stdout",
     "output_type": "stream",
     "text": [
      "Wins percent:57.99999999999999\n",
      "Avg executation time:0.3449984097480774\n",
      "Avg visited nodes:3606.76\n"
     ]
    }
   ],
   "source": [
    "run_test(depth=3, number_of_tests=100)"
   ]
  },
  {
   "attachments": {},
   "cell_type": "markdown",
   "metadata": {},
   "source": [
    "And depth 5.\n",
    "we decrease number_of_tests also because it takes long time to run."
   ]
  },
  {
   "cell_type": "code",
   "execution_count": 45,
   "metadata": {},
   "outputs": [
    {
     "name": "stdout",
     "output_type": "stream",
     "text": [
      "Wins percent: 64.0\n",
      "Avg execution time: 62.503296823501586\n",
      "Avg visited nodes: 169697.94\n"
     ]
    }
   ],
   "source": [
    "run_test(depth=5, number_of_tests=100)"
   ]
  },
  {
   "attachments": {},
   "cell_type": "markdown",
   "metadata": {},
   "source": [
    "Now we implement minimax with alpha beta and prune."
   ]
  },
  {
   "cell_type": "code",
   "execution_count": 4,
   "metadata": {},
   "outputs": [],
   "source": [
    "from copy import deepcopy\n",
    "\n",
    "class OthelloMinimaxA(main.Othello):\n",
    "    def evaluate(self, player):\n",
    "        score = 0\n",
    "        score += sum([row.count(player) for row in self.board])\n",
    "        return score\n",
    "    \n",
    "    def alpha_beta_minimax(self, depth, player, alpha, beta):\n",
    "        self.number_of_seen_nodes += 1\n",
    "        if depth == 0 or self.terminal_test():\n",
    "            return sum([row.count(1) for row in self.board])\n",
    "        if player == -1:\n",
    "            best_score = float('inf')\n",
    "            for move in self.get_valid_moves(player):\n",
    "                board_copy = [row[:] for row in self.board]\n",
    "                self.make_move(player, move)\n",
    "                score = self.alpha_beta_minimax(depth - 1, 1, alpha, beta)\n",
    "                self.board = board_copy\n",
    "                best_score = min(best_score, score)\n",
    "                beta = min(beta, score)\n",
    "                if alpha >= beta:\n",
    "                    break\n",
    "            return best_score\n",
    "        else:\n",
    "            best_score = float('-inf')\n",
    "            for move in self.get_valid_moves(player):\n",
    "                board_copy = [row[:] for row in self.board]\n",
    "                self.make_move(player, move)\n",
    "                score = self.alpha_beta_minimax(depth - 1, -1, alpha, beta)\n",
    "                self.board = board_copy\n",
    "                best_score = max(best_score, score)\n",
    "                alpha = max(alpha, score)\n",
    "                if alpha >= beta:\n",
    "                    break\n",
    "            return best_score\n",
    "        \n",
    "    def get_human_move(self):\n",
    "        moves = self.get_valid_moves(1)\n",
    "        if len(moves) == 0:\n",
    "            return None\n",
    "        best_move = None\n",
    "        best_score = float('-inf')\n",
    "        for move in moves:\n",
    "            temp_board = deepcopy(self.board)\n",
    "            self.make_move(1, move)\n",
    "            score = self.alpha_beta_minimax(self.minimax_depth-1, -1, float('-inf'), float('inf'))\n",
    "            self.board = deepcopy(temp_board)\n",
    "            if score > best_score:\n",
    "                best_move = move\n",
    "                best_score = score\n",
    "        return best_move"
   ]
  },
  {
   "cell_type": "code",
   "execution_count": 12,
   "metadata": {},
   "outputs": [],
   "source": [
    "def run_testA(depth, number_of_tests):\n",
    "    total_time = 0\n",
    "    total_seen_nodes = 0\n",
    "    win_count = 0\n",
    "    loop_counter = 0\n",
    "    while loop_counter<number_of_tests:\n",
    "        o = OthelloMinimaxA(ui=False, minimax_depth=depth)\n",
    "        result = o.play()\n",
    "        if result == (0,0,0):\n",
    "            continue\n",
    "        if result[0] == 1:\n",
    "            win_count += 1\n",
    "        total_time += result[1]\n",
    "        total_seen_nodes += result[2]\n",
    "        loop_counter+=1\n",
    "    print(f\"Wins percent:{win_count/number_of_tests*100}\")\n",
    "    print(f\"Avg executation time:{total_time/number_of_tests}\")\n",
    "    print(f\"Avg visited nodes:{total_seen_nodes/number_of_tests}\")"
   ]
  },
  {
   "attachments": {},
   "cell_type": "markdown",
   "metadata": {},
   "source": [
    "And we test new Othello with some depth and see the result."
   ]
  },
  {
   "cell_type": "code",
   "execution_count": 6,
   "metadata": {},
   "outputs": [
    {
     "name": "stdout",
     "output_type": "stream",
     "text": [
      "Wins percent:63.0\n",
      "Avg executation time:0.005793116092681885\n",
      "Avg visited nodes:78.9\n"
     ]
    }
   ],
   "source": [
    "run_testA(depth=1, number_of_tests=200)"
   ]
  },
  {
   "cell_type": "code",
   "execution_count": 7,
   "metadata": {},
   "outputs": [
    {
     "name": "stdout",
     "output_type": "stream",
     "text": [
      "Wins percent:73.0\n",
      "Avg executation time:0.06678219079971313\n",
      "Avg visited nodes:1801.72\n"
     ]
    }
   ],
   "source": [
    "run_testA(depth=3, number_of_tests=100)"
   ]
  },
  {
   "cell_type": "code",
   "execution_count": 8,
   "metadata": {},
   "outputs": [
    {
     "name": "stdout",
     "output_type": "stream",
     "text": [
      "Wins percent:92.0\n",
      "Avg executation time:1.0222524881362915\n",
      "Avg visited nodes:25717.03\n"
     ]
    }
   ],
   "source": [
    "run_testA(depth=5, number_of_tests=100)"
   ]
  },
  {
   "cell_type": "code",
   "execution_count": 13,
   "metadata": {},
   "outputs": [
    {
     "name": "stdout",
     "output_type": "stream",
     "text": [
      "Wins percent:97.0\n",
      "Avg executation time:7.864392778873444\n",
      "Avg visited nodes:185928.8\n"
     ]
    }
   ],
   "source": [
    "run_testA(depth=7, number_of_tests=100)"
   ]
  },
  {
   "attachments": {},
   "cell_type": "markdown",
   "metadata": {},
   "source": [
    "As we can see in above tests it's really faster than one without prune and even more wins percent.\n"
   ]
  },
  {
   "attachments": {},
   "cell_type": "markdown",
   "metadata": {},
   "source": [
    "### Answer Questions\n",
    "\n",
    "**1-** First it should be quick to compute and not require too much memory and also should provide accurate estimates of the cost of reaching the goal state.\n",
    "\n",
    "**2-** They are clearly related to each other, If we increase the depth as we expected number of visited nodes and execution time increase but it's good because our wins-percent in also increase and it's because we check more steps and make a more accurate decision.\n",
    "\n",
    "**3-** Yes, We can use a heuristic that estimates the expected value of each child node, and then arrange the children in descending order of their expected value and it's help us to have more prune in travel the tree.\n",
    "\n",
    "**4-** It is the average number of child nodes for each node in a search tree that we have. At the start of the game, the branching factor is very high, as there are many possible moves that a player can make. As the game progresses and more spaces become occupied, the number of available moves decreases, and the branching factor decreases too.\n",
    "\n",
    "**5-** This is because it eliminates the need to explore the branches that do not lead to the solution. As a result, the algorithm can focus on the more promising branches and explore them in more detail, which leads to a faster and more accurate solution.\n",
    "\n",
    "**6-** It assumes that both players are playing optimally and will choose the best move at each turn. In random play, the players do not always choose the best move, so the minimax algorithm will not accurately predict the outcome of the game. As i searched one algorithm that can be used for random play is Monte Carlo Tree Search (MCTS). MCTS is a heuristic search algorithm that is based on repeatedly simulating the play of the game from the current state to the end of the game. At each simulation, the algorithm selects a move to make based on the current state of the game, and then plays the game out randomly from that move to the end."
   ]
  }
 ],
 "metadata": {
  "kernelspec": {
   "display_name": "Python 3",
   "language": "python",
   "name": "python3"
  },
  "language_info": {
   "codemirror_mode": {
    "name": "ipython",
    "version": 3
   },
   "file_extension": ".py",
   "mimetype": "text/x-python",
   "name": "python",
   "nbconvert_exporter": "python",
   "pygments_lexer": "ipython3",
   "version": "3.10.6"
  },
  "orig_nbformat": 4
 },
 "nbformat": 4,
 "nbformat_minor": 2
}
