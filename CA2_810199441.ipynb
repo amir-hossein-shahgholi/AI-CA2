{
 "cells": [
  {
   "attachments": {},
   "cell_type": "markdown",
   "metadata": {},
   "source": [
    "## **CA2-AI**\n",
    "# **Amir-Hossein Shahgholi(810199441)**\n",
    "\n",
    "### Part1-Genetic"
   ]
  },
  {
   "attachments": {},
   "cell_type": "markdown",
   "metadata": {},
   "source": [
    "In first part we want to implementing a genetic algorithm for portfolio management:\n",
    "\n",
    "At first we should create our Portfolio class to representation our chromosomes."
   ]
  },
  {
   "cell_type": "code",
   "execution_count": null,
   "metadata": {},
   "outputs": [],
   "source": [
    "class Portfolio:\n",
    "    data = list\n",
    "    fitness_result = int\n",
    "    \n",
    "    def __init__(self, data):\n",
    "        self.data = data"
   ]
  },
  {
   "attachments": {},
   "cell_type": "markdown",
   "metadata": {},
   "source": [
    "In our Chromosome class we have a list of data that represent amount of each shares in our Protfolio.\n",
    "\n",
    "Now we should create our population first. We fill data with some random numbers that sum of them will be 1.\n",
    "To do this we first generate some random numbers and then normalize the numbers.</br>\n",
    "Below function will do that for us."
   ]
  },
  {
   "cell_type": "code",
   "execution_count": null,
   "metadata": {},
   "outputs": [],
   "source": [
    "import random\n",
    "\n",
    "ZERO_PERCENT = 0.6\n",
    "def create_sample_data(number_of_data):\n",
    "    numbers = []\n",
    "    for _ in range(number_of_data):\n",
    "        if (random.random()< ZERO_PERCENT):\n",
    "            numbers.append(0)\n",
    "        else:\n",
    "            random_no = random.random()\n",
    "            numbers.append(random_no)\n",
    "    total = sum(numbers)\n",
    "    numbers = [x/total for x in numbers]\n",
    "    return numbers"
   ]
  },
  {
   "attachments": {},
   "cell_type": "markdown",
   "metadata": {},
   "source": [
    "So we create sample portfolio with randoms data that represent our population.\n",
    "ٔNumber of Choromosomes in our population set as 1000."
   ]
  },
  {
   "cell_type": "code",
   "execution_count": null,
   "metadata": {},
   "outputs": [],
   "source": [
    "NUMBER_OF_CHOROMOSOME_IN_POPULATION = 1000\n",
    "NUMBER_OF_SHARES = 400\n",
    "\n",
    "population = []\n",
    "\n",
    "for _ in range(NUMBER_OF_CHOROMOSOME_IN_POPULATION):\n",
    "    sample_data = create_sample_data(NUMBER_OF_SHARES)\n",
    "    temp_portfolio = Portfolio(data=sample_data)\n",
    "    population.append(temp_portfolio)"
   ]
  },
  {
   "attachments": {},
   "cell_type": "markdown",
   "metadata": {},
   "source": [
    "In the next step we should define a fitness function to calculate a fitness value for each portfolio.\n",
    "For fitness function first we find total_returns of our portfolio and then we should find risk of our portfolio using the portfolio's standard deviation and then we calculate a fitness value with this formula: **fitness = (portfolio_return - risk_penalty * portfolio_risk) / return_penalty**"
   ]
  },
  {
   "cell_type": "code",
   "execution_count": null,
   "metadata": {},
   "outputs": [],
   "source": [
    "import numpy as np\n",
    "\n",
    "risk_penalty = 0.6\n",
    "return_penalty = 10\n",
    "\n",
    "\n",
    "def calculate_fitness(returns: list, risks: list, portfolio):\n",
    "    fitness = 0\n",
    "    returns = np.array(returns, dtype=np.float64)\n",
    "    risks = np.array(risks, dtype=np.float64)\n",
    "    shares_percent = np.array(portfolio.data, dtype=np.float64)\n",
    "    num_zeros = np.count_nonzero(shares_percent == 0.0)\n",
    "    if (NUMBER_OF_SHARES - num_zeros) <30:\n",
    "        fitness -= 0.1\n",
    "    portfolio_return = np.dot(returns, shares_percent)\n",
    "    portfolio_risk = np.sqrt(np.dot(shares_percent**2, risks))\n",
    "    fitness += (portfolio_return - risk_penalty * portfolio_risk) / return_penalty\n",
    "    return fitness"
   ]
  },
  {
   "attachments": {},
   "cell_type": "markdown",
   "metadata": {},
   "source": [
    "To find crossover of two chromosomes we use uniform crossover and then after finding child's data we normalize the data to have some of one in child's data. "
   ]
  },
  {
   "cell_type": "code",
   "execution_count": null,
   "metadata": {},
   "outputs": [],
   "source": [
    "def crossover(portfolio1, portfolio2) -> Portfolio:\n",
    "    pdata1 = portfolio1.data \n",
    "    pdata2 = portfolio2.data\n",
    "    child_data = []\n",
    "    for i in range(NUMBER_OF_SHARES):\n",
    "        if random.randint(0, 1) == 0:\n",
    "            child_data.append(pdata1[i])\n",
    "        else:\n",
    "            child_data.append(pdata2[i])\n",
    "    total = sum(child_data)\n",
    "    child_data = [x/total for x in child_data]\n",
    "    return Portfolio(child_data)"
   ]
  },
  {
   "attachments": {},
   "cell_type": "markdown",
   "metadata": {},
   "source": [
    "And we define a function for mutation that get portfolio data and replace the portfolio's data with some new data."
   ]
  },
  {
   "cell_type": "code",
   "execution_count": null,
   "metadata": {},
   "outputs": [],
   "source": [
    "def mutation(portfolio) -> Portfolio:\n",
    "    portfolio.data = create_sample_data(len( portfolio.data))\n",
    "    return portfolio"
   ]
  },
  {
   "attachments": {},
   "cell_type": "markdown",
   "metadata": {},
   "source": [
    "Read the sample data using `csv` library and save returns and risk of shares in two lists."
   ]
  },
  {
   "cell_type": "code",
   "execution_count": null,
   "metadata": {},
   "outputs": [],
   "source": [
    "import csv\n",
    "\n",
    "returns = []\n",
    "risks = []\n",
    "\n",
    "with open('sample.csv', 'r') as csvfile:\n",
    "    reader = csv.DictReader(csvfile)\n",
    "    for row in reader:\n",
    "        returns.append(row['return'])\n",
    "        risks.append(row['risk'])"
   ]
  },
  {
   "attachments": {},
   "cell_type": "markdown",
   "metadata": {},
   "source": [
    "We define a function to print data of portfolio."
   ]
  },
  {
   "cell_type": "code",
   "execution_count": null,
   "metadata": {},
   "outputs": [],
   "source": [
    "def print_portfolio_data(portfolio, returns, risks):\n",
    "    returns = np.array(returns, dtype=np.float64)\n",
    "    risks = np.array(risks, dtype=np.float64)\n",
    "    shares_percent = np.array(portfolio.data, dtype=np.float64)\n",
    "    portfolio_return = np.dot(returns, shares_percent)\n",
    "    portfolio_risk = np.sqrt(np.dot(shares_percent**2, risks))\n",
    "    print(f\"Fitness: {portfolio.fitness_result}\")\n",
    "    print(f\"Return: {portfolio_return}\")\n",
    "    print(f\"Risk: {portfolio_risk}\")\n",
    "    print(f\"Data: {portfolio.data}\")"
   ]
  },
  {
   "attachments": {},
   "cell_type": "markdown",
   "metadata": {},
   "source": [
    "In this main step we create new generations. First we calculate the fitness for all choromosomes in our populationa and then we sort them, in next part we going into a loop that generate new generations in each loop.\n",
    "In each loop we run the crossover function with probability of PC and mutation with probability of PM. After crossover we delete the choromosome with lowest fitness and then apend new choromosome to the population and when we got expected fitness we break the loop."
   ]
  },
  {
   "cell_type": "code",
   "execution_count": null,
   "metadata": {},
   "outputs": [
    {
     "name": "stdout",
     "output_type": "stream",
     "text": [
      "Fitness: 1.0007666126615837\n",
      "Return: 10.227763423392163\n",
      "Risk: 0.3668288279605435\n",
      "Data: [0.011424351576230393, 0.0, 0.007879127725982002, 0.0, 0.0, 0.0, 0.0, 0.0, 0.12078337911515351, 0.0, 0.0, 0.0, 0.0, 0.0, 0.0, 0.0, 0.0, 0.0, 0.0, 0.0, 0.0, 0.0, 0.0, 0.0030441146315688017, 0.0, 0.0, 0.0, 0.0, 0.0, 0.0, 0.0, 0.0, 0.0, 0.0, 0.0, 0.0, 0.0, 0.0006226355001908042, 0.0, 0.0024321722952422562, 0.0, 0.0, 0.0, 0.0, 0.0, 0.0, 0.0, 0.0, 0.0, 0.0, 0.0, 0.0, 0.0, 0.0, 0.0, 0.0, 0.0, 0.0, 0.0, 0.0, 0.0, 0.0, 0.0036543175598253447, 0.0, 0.0, 0.0, 0.0, 0.0, 0.0, 0.0, 0.0010078069179856528, 0.0, 0.0, 0.0, 0.0, 0.0, 0.0, 0.0, 0.0, 0.0, 0.0, 0.09668006950690515, 0.0, 0.0, 0.0, 0.0, 0.0, 0.0, 0.0, 0.0, 0.0, 0.0, 0.05588339140119659, 0.0, 0.0, 0.0, 0.0, 0.0, 0.0, 0.0, 0.0, 0.0, 0.0, 0.0, 0.0, 0.0002164497711016052, 0.0021540467683499893, 0.0, 0.0, 0.0, 0.0, 0.0, 0.000897766905020089, 0.0, 0.0, 0.0, 0.0, 0.0, 0.0, 0.0012512132039402405, 0.0, 0.0, 0.0, 0.0, 0.0, 0.0, 0.0, 0.0, 0.0, 0.0, 0.0, 0.0, 0.0, 0.0, 0.0, 0.0, 0.0, 0.0, 0.0, 0.011639150098079056, 0.0, 0.06713296502260664, 0.0, 0.0, 0.0, 0.0, 0.0, 0.0, 0.0, 0.0, 0.0, 0.0, 0.0, 0.0, 0.0, 0.0, 0.0, 0.0, 0.0, 0.0, 0.0, 0.0, 0.0, 0.0, 0.0, 0.0, 0.0, 0.0, 0.0, 0.0, 0.0, 0.0, 0.0, 0.0, 0.0, 0.0, 0.0, 0.0, 0.0, 0.0, 0.0, 0.0, 0.0, 0.0, 0.0, 0.0, 0.0, 0.0, 0.0, 0.0, 0.0, 0.0, 0.0, 0.0, 0.0, 0.0, 0.0, 0.0, 0.0, 0.0, 0.0, 0.0, 0.0, 0.0, 0.0, 0.0, 0.0, 0.0, 0.0, 0.0, 0.0, 0.0, 0.0, 0.0, 0.0, 0.0, 0.0, 0.0, 0.0, 0.0, 0.0, 0.0, 0.014312938502064354, 0.0, 0.0, 0.0, 0.0, 0.0, 0.0, 0.0, 0.0, 0.0, 0.0, 0.0057057139006686545, 0.0, 0.0, 0.0, 0.07927846682396589, 0.0, 0.0, 0.0, 0.0, 0.0, 0.0, 0.0, 0.0, 0.0, 0.0, 0.0, 0.0, 0.0, 0.0, 0.0, 0.0, 0.0, 0.0, 0.0002958566732509988, 0.0, 0.0, 0.0, 0.0021894205670339546, 0.0, 0.0, 0.0, 0.00014591489127483852, 0.0, 0.0, 0.0, 0.0, 0.0, 0.0, 0.0, 0.0, 0.0, 0.0, 0.0015668965045366108, 0.0, 0.03317656122675299, 0.0, 0.0, 0.0, 0.0, 0.0, 0.0, 0.0, 0.0, 0.0, 0.0, 0.0, 0.0, 0.0, 0.0, 0.0, 0.0, 0.0, 0.0, 0.0, 0.0, 0.0, 0.0, 0.0, 0.0, 0.0, 0.0, 0.0, 0.0, 0.0, 0.0, 0.0, 0.0, 0.0, 0.0, 0.0, 0.0, 0.008309008508184132, 0.03376786644157289, 0.0, 0.0, 0.0, 0.0, 0.005556823829050307, 0.0, 0.0, 1.9460944259298563e-05, 0.0, 0.0, 0.0, 0.0, 0.0, 0.0, 0.0, 0.0, 0.0, 0.0, 0.0026636892659347767, 0.0, 0.0, 0.0, 0.0, 0.0, 0.0, 0.0, 0.0, 0.0, 0.0, 0.0, 0.0, 0.0, 0.0, 0.0, 0.0, 0.0, 0.0, 0.0, 0.0, 0.0, 0.0, 0.0, 0.0, 0.0, 0.0, 0.0, 0.0, 0.0, 0.0, 0.0, 0.0, 0.0, 0.0, 0.0, 0.0, 0.0, 0.3972330558885357, 0.004967672819404349, 0.0, 0.0, 0.0, 0.023957619858889775, 0.0, 0.0, 0.0, 0.0, 0.0, 0.0, 0.0, 0.0, 0.0, 0.00015007535524225654, 0.0, 0.0, 0.0, 0.0, 0.0, 0.0, 0.0, 0.0, 0.0, 0.0, 0.0, 0.0]\n"
     ]
    }
   ],
   "source": [
    "PC = 0.9\n",
    "PM = 0.05\n",
    "for cal in population:\n",
    "    cal.fitness_result = calculate_fitness(returns, risks, cal)\n",
    "population = sorted(population, key=lambda portfolio: portfolio.fitness_result)\n",
    "while True:\n",
    "    if random.random() <= PC:\n",
    "        population_no = len(population)\n",
    "        parents = [population[i] for i in random.choices(range(population_no), weights=range(population_no), k=2)]\n",
    "        new_child = crossover(parents[0], parents[1])\n",
    "        new_child.fitness_result = calculate_fitness(returns, risks, new_child)\n",
    "        population.pop(0)\n",
    "        for z, chrom in enumerate(population):\n",
    "            if chrom.fitness_result > new_child.fitness_result:\n",
    "                population.insert(z, new_child)\n",
    "                break\n",
    "        else:\n",
    "            population.append(new_child)\n",
    "    if random.random() <= PM:\n",
    "        random_chrom_index = random.randint(0,len(population)-1)\n",
    "        population[random_chrom_index] = mutation(population[random_chrom_index])\n",
    "    if population[-1].fitness_result > 1:\n",
    "        break\n",
    "print_portfolio_data(population[-1], returns, risks)\n",
    "    "
   ]
  },
  {
   "attachments": {},
   "cell_type": "markdown",
   "metadata": {},
   "source": [
    "### Answer a questions:\n",
    "\n",
    "**1-** The small population can result in the algorithm getting stuck in a local optimum answer and not finding the global optimum answer. In large population finding the answer take long time and can result in longer computation times, which can be a problem for optimization problems with large scales.\n",
    "\n",
    "**2-** It increases the computation times and the memory usage very much and unnecessary data(like choromosomes with low fitness) take large amount of memmory.\n",
    "\n",
    "**3-** With crossover combining information from two or more parents to create better offsprings and mutation introducing random changes to the offspring to create some new genes. We need both of them for example crossover without mutation can getting stuck in a local answer and new childs don't getting better in new generations.\n",
    "\n",
    "**4-** Chosing a good Fitness function, the initial population size and their data should be chosen carefully to create variant init data and parameters of the probability of crossover and mutation are helpful to make iit faster.\n",
    "\n",
    "**5-** The algorithm may find local optimum answer and not finding the global optimum and that answer may not be good for our fitness. In this cases we can use mutation with more probability and also we can stop the loop if in new generation our fitness not growing.\n",
    "\n",
    "**-6** As said in above question we can break the loop if we don't have grow in our new generation's fitness."
   ]
  },
  {
   "attachments": {},
   "cell_type": "markdown",
   "metadata": {},
   "source": [
    "## Part2-Game"
   ]
  },
  {
   "cell_type": "markdown",
   "metadata": {},
   "source": []
  }
 ],
 "metadata": {
  "kernelspec": {
   "display_name": "Python 3",
   "language": "python",
   "name": "python3"
  },
  "language_info": {
   "codemirror_mode": {
    "name": "ipython",
    "version": 3
   },
   "file_extension": ".py",
   "mimetype": "text/x-python",
   "name": "python",
   "nbconvert_exporter": "python",
   "pygments_lexer": "ipython3",
   "version": "3.10.6"
  },
  "orig_nbformat": 4
 },
 "nbformat": 4,
 "nbformat_minor": 2
}
